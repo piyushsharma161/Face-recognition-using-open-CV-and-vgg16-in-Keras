{
 "cells": [
  {
   "cell_type": "code",
   "execution_count": 1,
   "metadata": {
    "scrolled": true
   },
   "outputs": [],
   "source": [
    "import cv2\n",
    "from tensorflow.keras.models import load_model\n",
    "import numpy as np"
   ]
  },
  {
   "cell_type": "code",
   "execution_count": 2,
   "metadata": {},
   "outputs": [],
   "source": [
    "# Load HAAR face classifier\n",
    "face_classifier = cv2.CascadeClassifier('C:/projects/face_reco/Deep-Learning-Face-Recognition/haarcascade_frontalface_default.xml')\n",
    "\n",
    "model = load_model('facefeatures_new_model.h5')\n",
    "\n",
    "\n",
    "def face_extractor(img):\n",
    "    faces = face_classifier.detectMultiScale(img, 1.3, 5) \n",
    "    faces_cor = []\n",
    "    face_imgs = np.empty((len(faces), 224, 224, 3))\n",
    "    \n",
    "    for i, face in enumerate(faces):  \n",
    "        if face is ():\n",
    "            return None, None\n",
    "        # Crop all faces found\n",
    "        for (x,y,w,h) in face.reshape((1,4)):\n",
    "            face_cor = []\n",
    "            cv2.rectangle(img,(x,y),(x+w,y+h),(0,255,255),2)\n",
    "            x=x-10\n",
    "            y=y-10\n",
    "            face_cor.append(x)\n",
    "            face_cor.append(y)\n",
    "            face_img = img[y:y+h+50, x:x+w+50]\n",
    "            try:\n",
    "                face_img = cv2.resize(face_img, (224, 224))           \n",
    "                face_imgs[i,:,:,:] = face_img\n",
    "                faces_cor.append(face_cor)\n",
    "            except Exception as e:\n",
    "                return None, None\n",
    "\n",
    "    return faces_cor, face_imgs"
   ]
  },
  {
   "cell_type": "code",
   "execution_count": 3,
   "metadata": {},
   "outputs": [],
   "source": [
    "# Doing some Face Recognition with the webcam\n",
    "video_capture = cv2.VideoCapture(0)\n",
    "while True:\n",
    "    valid, frame = video_capture.read()\n",
    "    faces_cor, faces = face_extractor(frame)\n",
    "    if faces is not None:\n",
    "        if faces.shape[0]>0 & valid:\n",
    "            for i in range(len(faces)):\n",
    "                face = faces[i]\n",
    "                face_cor = faces_cor[i]\n",
    "                face = face/255.0\n",
    "                face = face.reshape([1,224,224,3])\n",
    "                pred = model.predict(face)\n",
    "                #print(pred)\n",
    "                name=\"None matching\"\n",
    "                if(pred[0][1]>0.5):\n",
    "                    name='Piyush'\n",
    "                    cv2.putText(frame,name, (face_cor[0], face_cor[1]), cv2.FONT_HERSHEY_COMPLEX, 1, (0,255,0), 2)\n",
    "                elif (pred[0][0]>0.5):\n",
    "                    name ='Myra'       \n",
    "                    cv2.putText(frame,name, (face_cor[0], face_cor[1]), cv2.FONT_HERSHEY_COMPLEX, 1, (0,255,0), 2)\n",
    "        else:\n",
    "            cv2.putText(frame,\"No face found\", (50, 50), cv2.FONT_HERSHEY_COMPLEX, 1, (0,255,0), 2)\n",
    "\n",
    "    else:\n",
    "        cv2.putText(frame,\"No face found\", (50, 50), cv2.FONT_HERSHEY_COMPLEX, 1, (0,255,0), 2) \n",
    "    cv2.imshow('Video', frame)\n",
    "    if cv2.waitKey(1) & 0xFF == ord('q'):\n",
    "        break\n",
    "video_capture.release()\n",
    "cv2.destroyAllWindows()"
   ]
  },
  {
   "cell_type": "code",
   "execution_count": null,
   "metadata": {},
   "outputs": [],
   "source": []
  }
 ],
 "metadata": {
  "kernelspec": {
   "display_name": "Python 3",
   "language": "python",
   "name": "python3"
  },
  "language_info": {
   "codemirror_mode": {
    "name": "ipython",
    "version": 3
   },
   "file_extension": ".py",
   "mimetype": "text/x-python",
   "name": "python",
   "nbconvert_exporter": "python",
   "pygments_lexer": "ipython3",
   "version": "3.6.8"
  }
 },
 "nbformat": 4,
 "nbformat_minor": 4
}
